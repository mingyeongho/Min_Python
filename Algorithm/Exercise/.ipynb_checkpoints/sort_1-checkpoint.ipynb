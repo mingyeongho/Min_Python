{
 "cells": [
  {
   "cell_type": "markdown",
   "metadata": {},
   "source": [
    "## Bubble sort"
   ]
  },
  {
   "cell_type": "code",
   "execution_count": 1,
   "metadata": {},
   "outputs": [
    {
     "name": "stdout",
     "output_type": "stream",
     "text": [
      "n: 5\n",
      "a[0] : 7\n",
      "a[1] : 6\n",
      "a[2] : 4\n",
      "a[3] : 8\n",
      "a[4] : 9\n"
     ]
    },
    {
     "data": {
      "text/plain": [
       "[4, 6, 7, 8, 9]"
      ]
     },
     "execution_count": 1,
     "metadata": {},
     "output_type": "execute_result"
    }
   ],
   "source": [
    "from typing import MutableSequence\n",
    "\n",
    "def bubble_sort(a: MutableSequence) -> None:\n",
    "    n = len(a)\n",
    "    for i in range(n-1):\n",
    "        for j in range(n-1, i, -1):\n",
    "            if a[j-1] > a[j] :\n",
    "                a[j-1], a[j] = a[j], a[j-1]\n",
    "                \n",
    "n = int(input('n: '))\n",
    "arr = [None] * n\n",
    "for i in range(n):\n",
    "    arr[i] = int(input(f'a[{i}] : '))\n",
    "bubble_sort(arr)\n",
    "arr"
   ]
  },
  {
   "cell_type": "markdown",
   "metadata": {},
   "source": [
    "## Verbose"
   ]
  },
  {
   "cell_type": "code",
   "execution_count": 7,
   "metadata": {},
   "outputs": [
    {
     "name": "stdout",
     "output_type": "stream",
     "text": [
      "n : 7\n",
      "arr[0] : 6\n",
      "arr[1] : 4\n",
      "arr[2] : 3\n",
      "arr[3] : 7\n",
      "arr[4] : 1\n",
      "arr[5] : 9\n",
      "arr[6] : 8\n",
      "Pass 1\n",
      " 6   4   3   7   1   9 + 8  \n",
      " 6   4   3   7   1 - 8   9  \n",
      " 6   4   3   7 + 1   8   9  \n",
      " 6   4   3 + 1   7   8   9  \n",
      " 6   4 + 1   3   7   8   9  \n",
      " 6 + 1   4   3   7   8   9  \n",
      " 1   6   4   3   7   8   9  \n",
      "Pass 2\n",
      " 1   6   4   3   7   8 - 9  \n",
      " 1   6   4   3   7 - 8   9  \n",
      " 1   6   4   3 - 7   8   9  \n",
      " 1   6   4 + 3   7   8   9  \n",
      " 1   6 + 3   4   7   8   9  \n",
      " 1   3   6   4   7   8   9  \n",
      "Pass 3\n",
      " 1   3   6   4   7   8 - 9  \n",
      " 1   3   6   4   7 - 8   9  \n",
      " 1   3   6   4 - 7   8   9  \n",
      " 1   3   6 + 4   7   8   9  \n",
      " 1   3   4   6   7   8   9  \n",
      "Pass 4\n",
      " 1   3   4   6   7   8 - 9  \n",
      " 1   3   4   6   7 - 8   9  \n",
      " 1   3   4   6 - 7   8   9  \n",
      " 1   3   4   6   7   8   9  \n",
      "Pass 5\n",
      " 1   3   4   6   7   8 - 9  \n",
      " 1   3   4   6   7 - 8   9  \n",
      " 1   3   4   6   7   8   9  \n",
      "Pass 6\n",
      " 1   3   4   6   7   8 - 9  \n",
      " 1   3   4   6   7   8   9  \n",
      "Compare 21\n",
      "Swqp 8\n"
     ]
    },
    {
     "data": {
      "text/plain": [
       "[1, 3, 4, 6, 7, 8, 9]"
      ]
     },
     "execution_count": 7,
     "metadata": {},
     "output_type": "execute_result"
    }
   ],
   "source": [
    "def bubble_sort(a: MutableSequence) -> None:\n",
    "    n = len(a)\n",
    "    ccnt = 0\n",
    "    scnt = 0\n",
    "    for i in range(n-1) :\n",
    "        print(f'Pass {i+1}')\n",
    "        for j in range(n-1, i, -1) :\n",
    "            for k in range(n) :\n",
    "                print(f'{a[k]:2}' + ('  ' if k != j-1 else ' +' if a[j-1] > a[j] else ' -'), end='')\n",
    "            print()\n",
    "            ccnt += 1\n",
    "            if a[j-1] > a[j] :\n",
    "                scnt += 1\n",
    "                a[j-1], a[j] = a[j], a[j-1]\n",
    "        for k in range(n) :\n",
    "            print(f'{a[k]:2}', end='  ')\n",
    "        print()\n",
    "    print(f'Compare {ccnt}')\n",
    "    print(f'Swqp {scnt}')\n",
    "    \n",
    "n = int(input('n : '))\n",
    "arr = [None]*n\n",
    "for i in range(n):\n",
    "    arr[i] = int(input(f'arr[{i}] : '))\n",
    "    \n",
    "bubble_sort(arr)\n",
    "arr"
   ]
  },
  {
   "cell_type": "markdown",
   "metadata": {},
   "source": [
    "## Bubble_sort2"
   ]
  },
  {
   "cell_type": "code",
   "execution_count": 8,
   "metadata": {},
   "outputs": [
    {
     "name": "stdout",
     "output_type": "stream",
     "text": [
      "n: 7\n",
      "arr[0] : 6\n",
      "arr[1] : 4\n",
      "arr[2] : 3\n",
      "arr[3] : 7\n",
      "arr[4] : 1\n",
      "arr[5] : 9\n",
      "arr[6] : 8\n"
     ]
    },
    {
     "data": {
      "text/plain": [
       "[1, 3, 4, 6, 7, 8, 9]"
      ]
     },
     "execution_count": 8,
     "metadata": {},
     "output_type": "execute_result"
    }
   ],
   "source": [
    "from typing import MutableSequence\n",
    "\n",
    "def bubble_sort(a: MutableSequence)->None:\n",
    "    n = len(a)\n",
    "    for i in range(n-1) :\n",
    "        exchng = 0\n",
    "        for j in range(n-1, i, -1) :\n",
    "            if a[j-1] > a[j] :\n",
    "                a[j-1], a[j] = a[j], a[j-1]\n",
    "                exchng+=1\n",
    "        if exchng == 0:\n",
    "            break\n",
    "n = int(input('n: '))\n",
    "arr = [None]*n\n",
    "for i in range(n) :\n",
    "    arr[i] = int(input(f'arr[{i}] : '))\n",
    "bubble_sort(arr)\n",
    "arr"
   ]
  },
  {
   "cell_type": "markdown",
   "metadata": {},
   "source": [
    "## Bubble_sort3"
   ]
  },
  {
   "cell_type": "code",
   "execution_count": 12,
   "metadata": {},
   "outputs": [
    {
     "name": "stdout",
     "output_type": "stream",
     "text": [
      "n: 7\n",
      "arr[0] : 6\n",
      "arr[1] : 4\n",
      "arr[2] : 3\n",
      "arr[3] : 1\n",
      "arr[4] : 7\n",
      "arr[5] : 9\n",
      "arr[6] : 8\n"
     ]
    },
    {
     "data": {
      "text/plain": [
       "[1, 3, 4, 6, 7, 8, 9]"
      ]
     },
     "execution_count": 12,
     "metadata": {},
     "output_type": "execute_result"
    }
   ],
   "source": [
    "from typing import MutableSequence\n",
    "\n",
    "def bubble_sort(a: MutableSequence) -> None:\n",
    "    n = len(a)\n",
    "    k = 0\n",
    "    while k < n-1:\n",
    "        last = n-1\n",
    "        for j in range(n-1, k, -1) :\n",
    "            if a[j-1] > a[j]:\n",
    "                a[j-1], a[j] = a[j], a[j-1]\n",
    "                last = j\n",
    "        k = last\n",
    "        \n",
    "n = int(input('n: '))\n",
    "arr = [None]*n\n",
    "for i in range(n) :\n",
    "    arr[i] = int(input(f'arr[{i}] : '))\n",
    "bubble_sort(arr)\n",
    "arr"
   ]
  },
  {
   "cell_type": "markdown",
   "metadata": {},
   "source": [
    "## Shaker sort"
   ]
  },
  {
   "cell_type": "code",
   "execution_count": 13,
   "metadata": {},
   "outputs": [
    {
     "name": "stdout",
     "output_type": "stream",
     "text": [
      "n: 7\n",
      "arr[0] : 6\n",
      "arr[1] : 4\n",
      "arr[2] : 3\n",
      "arr[3] : 1\n",
      "arr[4] : 7\n",
      "arr[5] : 9\n",
      "arr[6] : 8\n"
     ]
    },
    {
     "data": {
      "text/plain": [
       "[1, 3, 4, 6, 7, 8, 9]"
      ]
     },
     "execution_count": 13,
     "metadata": {},
     "output_type": "execute_result"
    }
   ],
   "source": [
    "from typing import MutableSequence\n",
    "\n",
    "def shaker_sort(a: MutableSequence) -> None:\n",
    "    n = len(a)\n",
    "    left = 0\n",
    "    right = n-1\n",
    "    last = right\n",
    "    while left < right :\n",
    "        for j in range(right, left, -1) :\n",
    "            if a[j-1] > a[j]:\n",
    "                a[j-1], a[j] = a[j], a[j-1]\n",
    "                last = j\n",
    "        left = last\n",
    "        for j in range(left, right):\n",
    "            if a[j] < a[j+1]:\n",
    "                a[j], a[j+1] = a[j+1], a[j]\n",
    "                last = j\n",
    "        right = last\n",
    "        \n",
    "n = int(input('n: '))\n",
    "arr = [None]*n\n",
    "for i in range(n) :\n",
    "    arr[i] = int(input(f'arr[{i}] : '))\n",
    "bubble_sort(arr)\n",
    "arr"
   ]
  },
  {
   "cell_type": "markdown",
   "metadata": {},
   "source": [
    "## straight selection sort"
   ]
  },
  {
   "cell_type": "code",
   "execution_count": 14,
   "metadata": {},
   "outputs": [
    {
     "name": "stdout",
     "output_type": "stream",
     "text": [
      "n: 7\n",
      "arr[0] : 6\n",
      "arr[1] : 4\n",
      "arr[2] : 3\n",
      "arr[3] : 1\n",
      "arr[4] : 7\n",
      "arr[5] : 9\n",
      "arr[6] : 8\n"
     ]
    },
    {
     "data": {
      "text/plain": [
       "[1, 3, 4, 6, 7, 8, 9]"
      ]
     },
     "execution_count": 14,
     "metadata": {},
     "output_type": "execute_result"
    }
   ],
   "source": [
    "from typing import MutableSequence\n",
    "\n",
    "def selection_sort(a: MutableSequence) -> None:\n",
    "    n = len(a)\n",
    "    for i in range(n-1):\n",
    "        min = i\n",
    "        for j in range(i+1, n):\n",
    "            if a[j] < a[min]:\n",
    "                min = j\n",
    "        a[i], a[min] = a[min], a[i]\n",
    "        \n",
    "n = int(input('n: '))\n",
    "arr = [None]*n\n",
    "for i in range(n) :\n",
    "    arr[i] = int(input(f'arr[{i}] : '))\n",
    "bubble_sort(arr)\n",
    "arr"
   ]
  },
  {
   "cell_type": "markdown",
   "metadata": {},
   "source": [
    "## straight insertion sort"
   ]
  },
  {
   "cell_type": "code",
   "execution_count": null,
   "metadata": {},
   "outputs": [],
   "source": [
    "from typing import MutableSequence\n",
    "\n",
    "def insertion_sort(a:MutableSequence) -> None:\n",
    "    n = len(a)\n",
    "    for i in range(1, n) :\n",
    "        j = i\n",
    "        temp = a[i]\n",
    "        while j > 0 and a[j-1]>temp:\n",
    "            a[j] = a[j-1]\n",
    "            j-=1\n",
    "        a[j] = temp"
   ]
  }
 ],
 "metadata": {
  "kernelspec": {
   "display_name": "Python 3",
   "language": "python",
   "name": "python3"
  },
  "language_info": {
   "codemirror_mode": {
    "name": "ipython",
    "version": 3
   },
   "file_extension": ".py",
   "mimetype": "text/x-python",
   "name": "python",
   "nbconvert_exporter": "python",
   "pygments_lexer": "ipython3",
   "version": "3.8.3"
  }
 },
 "nbformat": 4,
 "nbformat_minor": 4
}
